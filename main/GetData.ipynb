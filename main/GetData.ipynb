{
 "cells": [
  {
   "cell_type": "code",
   "execution_count": 1,
   "id": "24f3050e-ec78-46c8-bf68-f058ce14a991",
   "metadata": {},
   "outputs": [
    {
     "name": "stdout",
     "output_type": "stream",
     "text": [
      "/home/henry/Pictures/BigData_ABSA\n"
     ]
    }
   ],
   "source": [
    "%cd .."
   ]
  },
  {
   "cell_type": "markdown",
   "id": "812a3d01-ba72-4e5c-980c-f110e6a9fbdc",
   "metadata": {},
   "source": [
    "## 1. Load Package "
   ]
  },
  {
   "cell_type": "code",
   "execution_count": 2,
   "id": "a02fbcf2-5bcc-4242-8714-ebc6f8cba38f",
   "metadata": {},
   "outputs": [],
   "source": [
    "from src.conf import *\n",
    "from src.utils import *\n",
    "from tqdm import tqdm"
   ]
  },
  {
   "cell_type": "code",
   "execution_count": 3,
   "id": "5fa7972c-633d-491a-b792-7af6199c9c50",
   "metadata": {},
   "outputs": [
    {
     "name": "stderr",
     "output_type": "stream",
     "text": [
      "/home/henry/Pictures/BigData_ABSA/src/utils.py:21: FutureWarning: Passing a negative integer is deprecated in version 1.0 and will not be supported in future version. Instead, use None to not limit the column width.\n",
      "  pd.set_option('max_colwidth', -1)\n"
     ]
    }
   ],
   "source": [
    "display_all_dataframe()"
   ]
  },
  {
   "cell_type": "code",
   "execution_count": null,
   "id": "47b0b1d0-dded-4829-9cc5-c6be418562e0",
   "metadata": {},
   "outputs": [],
   "source": [
    "!git clone https://github.com/vncorenlp/VnCoreNLP.git\n",
    "!wget -q https://github.com/LuongPhan/UIT-ViSFD/raw/main/UIT-ViSFD.zip -P data/\n",
    "!unzip data/UIT-ViSFD.zip -d data"
   ]
  },
  {
   "cell_type": "markdown",
   "id": "e57048fd-a0d5-4fcc-8702-ccd080a3f2ac",
   "metadata": {},
   "source": [
    "## 2. Transform Data"
   ]
  },
  {
   "cell_type": "code",
   "execution_count": 9,
   "id": "948476b3-55b2-43b6-a694-cb3cc34786c5",
   "metadata": {},
   "outputs": [],
   "source": [
    "TextProcessing = TextProcessing()"
   ]
  },
  {
   "cell_type": "code",
   "execution_count": 11,
   "id": "9bb92eb7-0166-49a5-ab41-bf41f49ceacd",
   "metadata": {},
   "outputs": [
    {
     "name": "stderr",
     "output_type": "stream",
     "text": [
      "100%|█████████████████████████████████████████████████████████████████████████████████████████████████████████████████████████████████████████████████████████████████████████████████████████████████████| 3/3 [00:42<00:00, 14.33s/it]\n"
     ]
    }
   ],
   "source": [
    "ls_df = []\n",
    "new_labels = GetNewLabels()\n",
    "for data_name in tqdm(['Train', 'Dev', 'Test']):\n",
    "    df = pd.read_csv(f'data/{data_name}.csv')\n",
    "    df = df[['comment', 'label']]\n",
    "\n",
    "    for label in new_labels:\n",
    "        df[label] = 0\n",
    "\n",
    "    df = df.apply(lambda row: labels2onehot(row, raw_label='label'), axis=1) \n",
    "\n",
    "    df['tokenize'] = df['comment'].apply(lambda text: TextProcessing.clean_text(text, remove_stopwords=False))\n",
    "    # df['stop_words_remove'] = df['comment'].apply(lambda text: clean_text(text, remove_stopwords=True))\n",
    "\n",
    "    df = df[['tokenize', *new_labels]]\n",
    "    ls_df.append(df)\n",
    "\n",
    "df_train, df_valid, df_test = ls_df"
   ]
  },
  {
   "cell_type": "markdown",
   "id": "08cb8b45-bbf1-4aa5-86c5-4e3cc4cfdcc1",
   "metadata": {},
   "source": [
    "## 3. Check"
   ]
  },
  {
   "cell_type": "code",
   "execution_count": 13,
   "id": "c2078c95-3d5c-4150-8f98-bf89e85be78e",
   "metadata": {},
   "outputs": [
    {
     "data": {
      "text/html": [
       "<div>\n",
       "<style scoped>\n",
       "    .dataframe tbody tr th:only-of-type {\n",
       "        vertical-align: middle;\n",
       "    }\n",
       "\n",
       "    .dataframe tbody tr th {\n",
       "        vertical-align: top;\n",
       "    }\n",
       "\n",
       "    .dataframe thead th {\n",
       "        text-align: right;\n",
       "    }\n",
       "</style>\n",
       "<table border=\"1\" class=\"dataframe\">\n",
       "  <thead>\n",
       "    <tr style=\"text-align: right;\">\n",
       "      <th></th>\n",
       "      <th>tokenize</th>\n",
       "      <th>SCREEN#Positive</th>\n",
       "      <th>SCREEN#Neutral</th>\n",
       "      <th>SCREEN#Negative</th>\n",
       "      <th>CAMERA#Positive</th>\n",
       "      <th>CAMERA#Neutral</th>\n",
       "      <th>CAMERA#Negative</th>\n",
       "      <th>FEATURES#Positive</th>\n",
       "      <th>FEATURES#Neutral</th>\n",
       "      <th>FEATURES#Negative</th>\n",
       "      <th>BATTERY#Positive</th>\n",
       "      <th>BATTERY#Neutral</th>\n",
       "      <th>BATTERY#Negative</th>\n",
       "      <th>PERFORMANCE#Positive</th>\n",
       "      <th>PERFORMANCE#Neutral</th>\n",
       "      <th>PERFORMANCE#Negative</th>\n",
       "      <th>STORAGE#Positive</th>\n",
       "      <th>STORAGE#Neutral</th>\n",
       "      <th>STORAGE#Negative</th>\n",
       "      <th>DESIGN#Positive</th>\n",
       "      <th>DESIGN#Neutral</th>\n",
       "      <th>DESIGN#Negative</th>\n",
       "      <th>PRICE#Positive</th>\n",
       "      <th>PRICE#Neutral</th>\n",
       "      <th>PRICE#Negative</th>\n",
       "      <th>GENERAL#Positive</th>\n",
       "      <th>GENERAL#Neutral</th>\n",
       "      <th>GENERAL#Negative</th>\n",
       "      <th>SER&amp;ACC#Positive</th>\n",
       "      <th>SER&amp;ACC#Neutral</th>\n",
       "      <th>SER&amp;ACC#Negative</th>\n",
       "    </tr>\n",
       "  </thead>\n",
       "  <tbody>\n",
       "    <tr>\n",
       "      <th>7781</th>\n",
       "      <td>8g cái đi đánh là mạng giật giật ko chịu nổi chán cái pig thì chap chờn ko sạc nhanh còn chơi game thừa f11</td>\n",
       "      <td>0</td>\n",
       "      <td>0</td>\n",
       "      <td>0</td>\n",
       "      <td>0</td>\n",
       "      <td>0</td>\n",
       "      <td>0</td>\n",
       "      <td>0</td>\n",
       "      <td>0</td>\n",
       "      <td>1</td>\n",
       "      <td>0</td>\n",
       "      <td>0</td>\n",
       "      <td>1</td>\n",
       "      <td>0</td>\n",
       "      <td>0</td>\n",
       "      <td>1</td>\n",
       "      <td>0</td>\n",
       "      <td>0</td>\n",
       "      <td>0</td>\n",
       "      <td>0</td>\n",
       "      <td>0</td>\n",
       "      <td>0</td>\n",
       "      <td>0</td>\n",
       "      <td>0</td>\n",
       "      <td>0</td>\n",
       "      <td>0</td>\n",
       "      <td>0</td>\n",
       "      <td>0</td>\n",
       "      <td>0</td>\n",
       "      <td>0</td>\n",
       "      <td>0</td>\n",
       "    </tr>\n",
       "    <tr>\n",
       "      <th>7782</th>\n",
       "      <td>mua dk giảm 500k mà lỗi lòi ra hết treo màn_hình đen xì giờ lại tịt loa thoại ko bit bjo lỗi j nua</td>\n",
       "      <td>0</td>\n",
       "      <td>0</td>\n",
       "      <td>0</td>\n",
       "      <td>0</td>\n",
       "      <td>0</td>\n",
       "      <td>0</td>\n",
       "      <td>0</td>\n",
       "      <td>0</td>\n",
       "      <td>1</td>\n",
       "      <td>0</td>\n",
       "      <td>0</td>\n",
       "      <td>0</td>\n",
       "      <td>0</td>\n",
       "      <td>0</td>\n",
       "      <td>1</td>\n",
       "      <td>0</td>\n",
       "      <td>0</td>\n",
       "      <td>0</td>\n",
       "      <td>0</td>\n",
       "      <td>0</td>\n",
       "      <td>0</td>\n",
       "      <td>1</td>\n",
       "      <td>0</td>\n",
       "      <td>0</td>\n",
       "      <td>0</td>\n",
       "      <td>0</td>\n",
       "      <td>0</td>\n",
       "      <td>0</td>\n",
       "      <td>0</td>\n",
       "      <td>0</td>\n",
       "    </tr>\n",
       "    <tr>\n",
       "      <th>7783</th>\n",
       "      <td>máy sài 3 tháng rồi rất ok pin trâu khỏi nói sài cả ngày đến tối 12 giờ đêm mới sạc mình chơi game liên_quân cả ngày rất ok</td>\n",
       "      <td>0</td>\n",
       "      <td>0</td>\n",
       "      <td>0</td>\n",
       "      <td>0</td>\n",
       "      <td>0</td>\n",
       "      <td>0</td>\n",
       "      <td>0</td>\n",
       "      <td>0</td>\n",
       "      <td>0</td>\n",
       "      <td>1</td>\n",
       "      <td>0</td>\n",
       "      <td>0</td>\n",
       "      <td>1</td>\n",
       "      <td>0</td>\n",
       "      <td>0</td>\n",
       "      <td>0</td>\n",
       "      <td>0</td>\n",
       "      <td>0</td>\n",
       "      <td>0</td>\n",
       "      <td>0</td>\n",
       "      <td>0</td>\n",
       "      <td>0</td>\n",
       "      <td>0</td>\n",
       "      <td>0</td>\n",
       "      <td>1</td>\n",
       "      <td>0</td>\n",
       "      <td>0</td>\n",
       "      <td>0</td>\n",
       "      <td>0</td>\n",
       "      <td>0</td>\n",
       "    </tr>\n",
       "    <tr>\n",
       "      <th>7784</th>\n",
       "      <td>rất tiếc hàng realme ko có ốp lưng ngoài nên khó xài với con realme thì ngon thầm giá 4990k nhưng giá hết khuyển mãi thì giá hơi cao</td>\n",
       "      <td>0</td>\n",
       "      <td>0</td>\n",
       "      <td>0</td>\n",
       "      <td>0</td>\n",
       "      <td>0</td>\n",
       "      <td>0</td>\n",
       "      <td>0</td>\n",
       "      <td>0</td>\n",
       "      <td>0</td>\n",
       "      <td>0</td>\n",
       "      <td>0</td>\n",
       "      <td>0</td>\n",
       "      <td>0</td>\n",
       "      <td>0</td>\n",
       "      <td>0</td>\n",
       "      <td>0</td>\n",
       "      <td>0</td>\n",
       "      <td>0</td>\n",
       "      <td>0</td>\n",
       "      <td>0</td>\n",
       "      <td>0</td>\n",
       "      <td>0</td>\n",
       "      <td>0</td>\n",
       "      <td>1</td>\n",
       "      <td>1</td>\n",
       "      <td>0</td>\n",
       "      <td>0</td>\n",
       "      <td>0</td>\n",
       "      <td>0</td>\n",
       "      <td>1</td>\n",
       "    </tr>\n",
       "    <tr>\n",
       "      <th>7785</th>\n",
       "      <td>mình rất thất_vọng khi mua máy này bắt wifi cực_kì yếu vẫn là samsung dùng ngon nhất</td>\n",
       "      <td>0</td>\n",
       "      <td>0</td>\n",
       "      <td>0</td>\n",
       "      <td>0</td>\n",
       "      <td>0</td>\n",
       "      <td>0</td>\n",
       "      <td>0</td>\n",
       "      <td>0</td>\n",
       "      <td>1</td>\n",
       "      <td>0</td>\n",
       "      <td>0</td>\n",
       "      <td>0</td>\n",
       "      <td>0</td>\n",
       "      <td>0</td>\n",
       "      <td>0</td>\n",
       "      <td>0</td>\n",
       "      <td>0</td>\n",
       "      <td>0</td>\n",
       "      <td>0</td>\n",
       "      <td>0</td>\n",
       "      <td>0</td>\n",
       "      <td>0</td>\n",
       "      <td>0</td>\n",
       "      <td>0</td>\n",
       "      <td>0</td>\n",
       "      <td>0</td>\n",
       "      <td>1</td>\n",
       "      <td>0</td>\n",
       "      <td>0</td>\n",
       "      <td>1</td>\n",
       "    </tr>\n",
       "  </tbody>\n",
       "</table>\n",
       "</div>"
      ],
      "text/plain": [
       "                                                                                                                                  tokenize  SCREEN#Positive  SCREEN#Neutral  SCREEN#Negative  CAMERA#Positive  CAMERA#Neutral  CAMERA#Negative  FEATURES#Positive  FEATURES#Neutral  FEATURES#Negative  BATTERY#Positive  BATTERY#Neutral  BATTERY#Negative  PERFORMANCE#Positive  PERFORMANCE#Neutral  PERFORMANCE#Negative  STORAGE#Positive  STORAGE#Neutral  STORAGE#Negative  DESIGN#Positive  DESIGN#Neutral  DESIGN#Negative  PRICE#Positive  PRICE#Neutral  PRICE#Negative  GENERAL#Positive  GENERAL#Neutral  GENERAL#Negative  SER&ACC#Positive  SER&ACC#Neutral  SER&ACC#Negative\n",
       "7781  8g cái đi đánh là mạng giật giật ko chịu nổi chán cái pig thì chap chờn ko sạc nhanh còn chơi game thừa f11                           0                0               0                0                0               0                0                  0                 1                  0                 0                1                 0                     0                    1                     0                 0                0                 0                0               0                0               0              0               0                 0                0                 0                 0                0               \n",
       "7782  mua dk giảm 500k mà lỗi lòi ra hết treo màn_hình đen xì giờ lại tịt loa thoại ko bit bjo lỗi j nua                                    0                0               0                0                0               0                0                  0                 1                  0                 0                0                 0                     0                    1                     0                 0                0                 0                0               0                1               0              0               0                 0                0                 0                 0                0               \n",
       "7783  máy sài 3 tháng rồi rất ok pin trâu khỏi nói sài cả ngày đến tối 12 giờ đêm mới sạc mình chơi game liên_quân cả ngày rất ok           0                0               0                0                0               0                0                  0                 0                  1                 0                0                 1                     0                    0                     0                 0                0                 0                0               0                0               0              0               1                 0                0                 0                 0                0               \n",
       "7784  rất tiếc hàng realme ko có ốp lưng ngoài nên khó xài với con realme thì ngon thầm giá 4990k nhưng giá hết khuyển mãi thì giá hơi cao  0                0               0                0                0               0                0                  0                 0                  0                 0                0                 0                     0                    0                     0                 0                0                 0                0               0                0               0              1               1                 0                0                 0                 0                1               \n",
       "7785  mình rất thất_vọng khi mua máy này bắt wifi cực_kì yếu vẫn là samsung dùng ngon nhất                                                  0                0               0                0                0               0                0                  0                 1                  0                 0                0                 0                     0                    0                     0                 0                0                 0                0               0                0               0              0               0                 0                1                 0                 0                1               "
      ]
     },
     "execution_count": 13,
     "metadata": {},
     "output_type": "execute_result"
    }
   ],
   "source": [
    "df_train.tail(5)"
   ]
  },
  {
   "cell_type": "code",
   "execution_count": 14,
   "id": "0dfe404b-279f-4e9f-b0e9-968d4e379fba",
   "metadata": {},
   "outputs": [],
   "source": [
    "df_train.to_csv('data/processed_train.csv', index=False)\n",
    "df_valid.to_csv('data/processed_valid.csv', index=False)\n",
    "df_test.to_csv('data/processed_test.csv', index=False)"
   ]
  },
  {
   "cell_type": "code",
   "execution_count": null,
   "id": "9dd59ac1-5cde-4394-af26-d5889b7e3b96",
   "metadata": {},
   "outputs": [],
   "source": []
  }
 ],
 "metadata": {
  "kernelspec": {
   "display_name": "Python 3 (ipykernel)",
   "language": "python",
   "name": "python3"
  },
  "language_info": {
   "codemirror_mode": {
    "name": "ipython",
    "version": 3
   },
   "file_extension": ".py",
   "mimetype": "text/x-python",
   "name": "python",
   "nbconvert_exporter": "python",
   "pygments_lexer": "ipython3",
   "version": "3.9.12"
  }
 },
 "nbformat": 4,
 "nbformat_minor": 5
}
