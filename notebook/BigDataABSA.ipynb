{
 "cells": [
  {
   "cell_type": "code",
   "execution_count": 1,
   "id": "06098efd-425b-429e-8912-180d1fc60835",
   "metadata": {
    "colab": {
     "base_uri": "https://localhost:8080/"
    },
    "id": "06098efd-425b-429e-8912-180d1fc60835",
    "outputId": "7f45ff1d-973b-4f4e-9a12-ef359bdbd501"
   },
   "outputs": [
    {
     "name": "stdout",
     "output_type": "stream",
     "text": [
      "Wed Jul 13 00:35:39 2022       \n",
      "+-----------------------------------------------------------------------------+\n",
      "| NVIDIA-SMI 460.32.03    Driver Version: 460.32.03    CUDA Version: 11.2     |\n",
      "|-------------------------------+----------------------+----------------------+\n",
      "| GPU  Name        Persistence-M| Bus-Id        Disp.A | Volatile Uncorr. ECC |\n",
      "| Fan  Temp  Perf  Pwr:Usage/Cap|         Memory-Usage | GPU-Util  Compute M. |\n",
      "|                               |                      |               MIG M. |\n",
      "|===============================+======================+======================|\n",
      "|   0  Tesla T4            Off  | 00000000:00:04.0 Off |                    0 |\n",
      "| N/A   45C    P8     9W /  70W |      0MiB / 15109MiB |      0%      Default |\n",
      "|                               |                      |                  N/A |\n",
      "+-------------------------------+----------------------+----------------------+\n",
      "                                                                               \n",
      "+-----------------------------------------------------------------------------+\n",
      "| Processes:                                                                  |\n",
      "|  GPU   GI   CI        PID   Type   Process name                  GPU Memory |\n",
      "|        ID   ID                                                   Usage      |\n",
      "|=============================================================================|\n",
      "|  No running processes found                                                 |\n",
      "+-----------------------------------------------------------------------------+\n"
     ]
    }
   ],
   "source": [
    "!nvidia-smi"
   ]
  },
  {
   "cell_type": "code",
   "execution_count": 2,
   "id": "4oydC3D8rQsS",
   "metadata": {
    "colab": {
     "base_uri": "https://localhost:8080/"
    },
    "id": "4oydC3D8rQsS",
    "outputId": "39d51e1d-ca27-4229-bfd1-d73f7f9a8f83"
   },
   "outputs": [
    {
     "name": "stdout",
     "output_type": "stream",
     "text": [
      "fatal: destination path 'Smartphone-ABSA' already exists and is not an empty directory.\n"
     ]
    }
   ],
   "source": [
    "!git clone https://github.com/hoanshiro/Smartphone-ABSA"
   ]
  },
  {
   "cell_type": "code",
   "execution_count": 3,
   "id": "e1-HAoc-rT8Y",
   "metadata": {
    "colab": {
     "base_uri": "https://localhost:8080/"
    },
    "id": "e1-HAoc-rT8Y",
    "outputId": "52fc16e8-fb26-4a85-a832-5ba993b4af3a"
   },
   "outputs": [],
   "source": [
    "import os\n",
    "base_path = '/home/henry/Desktop/'\n",
    "os.chdir(base_path + \"Smartphone-ABSA/\")"
   ]
  },
  {
   "cell_type": "markdown",
   "id": "eb9cc541-cec0-4151-ba08-ec788ba89798",
   "metadata": {
    "id": "eb9cc541-cec0-4151-ba08-ec788ba89798"
   },
   "source": [
    "## 1. Load data"
   ]
  },
  {
   "cell_type": "markdown",
   "id": "6fe4da8c-7e99-4ad9-99e8-19e63ab7af9b",
   "metadata": {},
   "source": [
    "### 1.1 Import libaries"
   ]
  },
  {
   "cell_type": "code",
   "execution_count": 1,
   "id": "c30aaf24-4bd3-4018-aad8-f1ea4fd9c7be",
   "metadata": {
    "id": "c30aaf24-4bd3-4018-aad8-f1ea4fd9c7be"
   },
   "outputs": [],
   "source": [
    "import os\n",
    "import pandas as pd\n",
    "import numpy as np\n",
    "import shutil\n",
    "import sys\n",
    "import tqdm.notebook as tqdm\n",
    "from collections import defaultdict\n",
    "\n",
    "import torch\n",
    "import torch.nn as nn\n",
    "from sklearn.metrics import confusion_matrix, classification_report"
   ]
  },
  {
   "cell_type": "markdown",
   "id": "120b06a4-405d-49bf-9328-0aa88471af20",
   "metadata": {
    "id": "120b06a4-405d-49bf-9328-0aa88471af20"
   },
   "source": [
    "### 1.2 Load Data"
   ]
  },
  {
   "cell_type": "code",
   "execution_count": 4,
   "id": "945a6679-ae0f-4e68-b89a-ab4c92234b98",
   "metadata": {
    "id": "945a6679-ae0f-4e68-b89a-ab4c92234b98"
   },
   "outputs": [],
   "source": [
    "df_train = pd.read_csv('data/processed_data/processed_train.csv')\n",
    "df_valid = pd.read_csv('data/processed_data/processed_valid.csv')\n",
    "df_test = pd.read_csv('data/processed_data/processed_test.csv')"
   ]
  },
  {
   "cell_type": "code",
   "execution_count": 5,
   "id": "2a5d0a47-ac9d-4d30-b1a3-ccee35c9828c",
   "metadata": {
    "colab": {
     "base_uri": "https://localhost:8080/",
     "height": 699
    },
    "id": "2a5d0a47-ac9d-4d30-b1a3-ccee35c9828c",
    "outputId": "e13264e3-bf2e-48a8-bb1f-826651b17fd5"
   },
   "outputs": [
    {
     "data": {
      "text/html": [
       "<div>\n",
       "<style scoped>\n",
       "    .dataframe tbody tr th:only-of-type {\n",
       "        vertical-align: middle;\n",
       "    }\n",
       "\n",
       "    .dataframe tbody tr th {\n",
       "        vertical-align: top;\n",
       "    }\n",
       "\n",
       "    .dataframe thead th {\n",
       "        text-align: right;\n",
       "    }\n",
       "</style>\n",
       "<table border=\"1\" class=\"dataframe\">\n",
       "  <thead>\n",
       "    <tr style=\"text-align: right;\">\n",
       "      <th></th>\n",
       "      <th>tokenize</th>\n",
       "      <th>SCREEN#Positive</th>\n",
       "      <th>SCREEN#Neutral</th>\n",
       "      <th>SCREEN#Negative</th>\n",
       "      <th>CAMERA#Positive</th>\n",
       "      <th>CAMERA#Neutral</th>\n",
       "      <th>CAMERA#Negative</th>\n",
       "      <th>FEATURES#Positive</th>\n",
       "      <th>FEATURES#Neutral</th>\n",
       "      <th>FEATURES#Negative</th>\n",
       "      <th>...</th>\n",
       "      <th>DESIGN#Negative</th>\n",
       "      <th>PRICE#Positive</th>\n",
       "      <th>PRICE#Neutral</th>\n",
       "      <th>PRICE#Negative</th>\n",
       "      <th>GENERAL#Positive</th>\n",
       "      <th>GENERAL#Neutral</th>\n",
       "      <th>GENERAL#Negative</th>\n",
       "      <th>SER&amp;ACC#Positive</th>\n",
       "      <th>SER&amp;ACC#Neutral</th>\n",
       "      <th>SER&amp;ACC#Negative</th>\n",
       "    </tr>\n",
       "  </thead>\n",
       "  <tbody>\n",
       "    <tr>\n",
       "      <th>7781</th>\n",
       "      <td>8g cái đi đánh là mạng giật giật ko chịu nổi c...</td>\n",
       "      <td>0</td>\n",
       "      <td>0</td>\n",
       "      <td>0</td>\n",
       "      <td>0</td>\n",
       "      <td>0</td>\n",
       "      <td>0</td>\n",
       "      <td>0</td>\n",
       "      <td>0</td>\n",
       "      <td>1</td>\n",
       "      <td>...</td>\n",
       "      <td>0</td>\n",
       "      <td>0</td>\n",
       "      <td>0</td>\n",
       "      <td>0</td>\n",
       "      <td>0</td>\n",
       "      <td>0</td>\n",
       "      <td>0</td>\n",
       "      <td>0</td>\n",
       "      <td>0</td>\n",
       "      <td>0</td>\n",
       "    </tr>\n",
       "    <tr>\n",
       "      <th>7782</th>\n",
       "      <td>mua dk giảm 500k mà lỗi lòi ra hết treo màn_hì...</td>\n",
       "      <td>0</td>\n",
       "      <td>0</td>\n",
       "      <td>0</td>\n",
       "      <td>0</td>\n",
       "      <td>0</td>\n",
       "      <td>0</td>\n",
       "      <td>0</td>\n",
       "      <td>0</td>\n",
       "      <td>1</td>\n",
       "      <td>...</td>\n",
       "      <td>0</td>\n",
       "      <td>1</td>\n",
       "      <td>0</td>\n",
       "      <td>0</td>\n",
       "      <td>0</td>\n",
       "      <td>0</td>\n",
       "      <td>0</td>\n",
       "      <td>0</td>\n",
       "      <td>0</td>\n",
       "      <td>0</td>\n",
       "    </tr>\n",
       "    <tr>\n",
       "      <th>7783</th>\n",
       "      <td>máy sài 3 tháng rồi rất ok pin trâu khỏi nói s...</td>\n",
       "      <td>0</td>\n",
       "      <td>0</td>\n",
       "      <td>0</td>\n",
       "      <td>0</td>\n",
       "      <td>0</td>\n",
       "      <td>0</td>\n",
       "      <td>0</td>\n",
       "      <td>0</td>\n",
       "      <td>0</td>\n",
       "      <td>...</td>\n",
       "      <td>0</td>\n",
       "      <td>0</td>\n",
       "      <td>0</td>\n",
       "      <td>0</td>\n",
       "      <td>1</td>\n",
       "      <td>0</td>\n",
       "      <td>0</td>\n",
       "      <td>0</td>\n",
       "      <td>0</td>\n",
       "      <td>0</td>\n",
       "    </tr>\n",
       "    <tr>\n",
       "      <th>7784</th>\n",
       "      <td>rất tiếc hàng realme ko có ốp lưng ngoài nên k...</td>\n",
       "      <td>0</td>\n",
       "      <td>0</td>\n",
       "      <td>0</td>\n",
       "      <td>0</td>\n",
       "      <td>0</td>\n",
       "      <td>0</td>\n",
       "      <td>0</td>\n",
       "      <td>0</td>\n",
       "      <td>0</td>\n",
       "      <td>...</td>\n",
       "      <td>0</td>\n",
       "      <td>0</td>\n",
       "      <td>0</td>\n",
       "      <td>1</td>\n",
       "      <td>1</td>\n",
       "      <td>0</td>\n",
       "      <td>0</td>\n",
       "      <td>0</td>\n",
       "      <td>0</td>\n",
       "      <td>1</td>\n",
       "    </tr>\n",
       "    <tr>\n",
       "      <th>7785</th>\n",
       "      <td>mình rất thất_vọng khi mua máy này bắt wifi cự...</td>\n",
       "      <td>0</td>\n",
       "      <td>0</td>\n",
       "      <td>0</td>\n",
       "      <td>0</td>\n",
       "      <td>0</td>\n",
       "      <td>0</td>\n",
       "      <td>0</td>\n",
       "      <td>0</td>\n",
       "      <td>1</td>\n",
       "      <td>...</td>\n",
       "      <td>0</td>\n",
       "      <td>0</td>\n",
       "      <td>0</td>\n",
       "      <td>0</td>\n",
       "      <td>0</td>\n",
       "      <td>0</td>\n",
       "      <td>1</td>\n",
       "      <td>0</td>\n",
       "      <td>0</td>\n",
       "      <td>1</td>\n",
       "    </tr>\n",
       "  </tbody>\n",
       "</table>\n",
       "<p>5 rows × 31 columns</p>\n",
       "</div>"
      ],
      "text/plain": [
       "                                               tokenize  SCREEN#Positive  \\\n",
       "7781  8g cái đi đánh là mạng giật giật ko chịu nổi c...                0   \n",
       "7782  mua dk giảm 500k mà lỗi lòi ra hết treo màn_hì...                0   \n",
       "7783  máy sài 3 tháng rồi rất ok pin trâu khỏi nói s...                0   \n",
       "7784  rất tiếc hàng realme ko có ốp lưng ngoài nên k...                0   \n",
       "7785  mình rất thất_vọng khi mua máy này bắt wifi cự...                0   \n",
       "\n",
       "      SCREEN#Neutral  SCREEN#Negative  CAMERA#Positive  CAMERA#Neutral  \\\n",
       "7781               0                0                0               0   \n",
       "7782               0                0                0               0   \n",
       "7783               0                0                0               0   \n",
       "7784               0                0                0               0   \n",
       "7785               0                0                0               0   \n",
       "\n",
       "      CAMERA#Negative  FEATURES#Positive  FEATURES#Neutral  FEATURES#Negative  \\\n",
       "7781                0                  0                 0                  1   \n",
       "7782                0                  0                 0                  1   \n",
       "7783                0                  0                 0                  0   \n",
       "7784                0                  0                 0                  0   \n",
       "7785                0                  0                 0                  1   \n",
       "\n",
       "      ...  DESIGN#Negative  PRICE#Positive  PRICE#Neutral  PRICE#Negative  \\\n",
       "7781  ...                0               0              0               0   \n",
       "7782  ...                0               1              0               0   \n",
       "7783  ...                0               0              0               0   \n",
       "7784  ...                0               0              0               1   \n",
       "7785  ...                0               0              0               0   \n",
       "\n",
       "      GENERAL#Positive  GENERAL#Neutral  GENERAL#Negative  SER&ACC#Positive  \\\n",
       "7781                 0                0                 0                 0   \n",
       "7782                 0                0                 0                 0   \n",
       "7783                 1                0                 0                 0   \n",
       "7784                 1                0                 0                 0   \n",
       "7785                 0                0                 1                 0   \n",
       "\n",
       "      SER&ACC#Neutral  SER&ACC#Negative  \n",
       "7781                0                 0  \n",
       "7782                0                 0  \n",
       "7783                0                 0  \n",
       "7784                0                 1  \n",
       "7785                0                 1  \n",
       "\n",
       "[5 rows x 31 columns]"
      ]
     },
     "execution_count": 5,
     "metadata": {},
     "output_type": "execute_result"
    }
   ],
   "source": [
    "df_train.tail(5)"
   ]
  },
  {
   "cell_type": "markdown",
   "id": "81df5a30-38a9-42e1-bcbe-8c4381c2b4db",
   "metadata": {},
   "source": [
    "## 2. Prepare Dataset"
   ]
  },
  {
   "cell_type": "markdown",
   "id": "0c499781-e2eb-400f-b076-0d6a691fa2cc",
   "metadata": {
    "id": "0c499781-e2eb-400f-b076-0d6a691fa2cc"
   },
   "source": [
    "### 2.1 Select Max Length"
   ]
  },
  {
   "cell_type": "code",
   "execution_count": 6,
   "id": "c26b7da4-09e6-433d-9f95-a54def0ac8fc",
   "metadata": {
    "colab": {
     "base_uri": "https://localhost:8080/"
    },
    "id": "c26b7da4-09e6-433d-9f95-a54def0ac8fc",
    "outputId": "e488379a-06ce-4f11-a35a-78f8eff5c2b4"
   },
   "outputs": [
    {
     "data": {
      "application/vnd.jupyter.widget-view+json": {
       "model_id": "542aa41cef27460e9314b24c9568f1ec",
       "version_major": 2,
       "version_minor": 0
      },
      "text/plain": [
       "Downloading:   0%|          | 0.00/557 [00:00<?, ?B/s]"
      ]
     },
     "metadata": {},
     "output_type": "display_data"
    },
    {
     "data": {
      "application/vnd.jupyter.widget-view+json": {
       "model_id": "ab9d03a733354dfd81c5d6cbf5929e8d",
       "version_major": 2,
       "version_minor": 0
      },
      "text/plain": [
       "Downloading:   0%|          | 0.00/874k [00:00<?, ?B/s]"
      ]
     },
     "metadata": {},
     "output_type": "display_data"
    },
    {
     "data": {
      "application/vnd.jupyter.widget-view+json": {
       "model_id": "5aa105acd3cd4d4abca8b2fd6f527a5b",
       "version_major": 2,
       "version_minor": 0
      },
      "text/plain": [
       "Downloading:   0%|          | 0.00/1.08M [00:00<?, ?B/s]"
      ]
     },
     "metadata": {},
     "output_type": "display_data"
    },
    {
     "name": "stderr",
     "output_type": "stream",
     "text": [
      "Special tokens have been added in the vocabulary, make sure the associated word embeddings are fine-tuned or trained.\n"
     ]
    }
   ],
   "source": [
    "from transformers import AutoTokenizer\n",
    "tokenizer = AutoTokenizer.from_pretrained(\"vinai/phobert-base\")"
   ]
  },
  {
   "cell_type": "code",
   "execution_count": 8,
   "id": "868dcc17-18c6-4f4e-9fcd-1768ad919091",
   "metadata": {
    "colab": {
     "base_uri": "https://localhost:8080/",
     "height": 0
    },
    "id": "868dcc17-18c6-4f4e-9fcd-1768ad919091",
    "outputId": "9559ee06-57d3-4a79-ca3e-c8f9ffd55ca1"
   },
   "outputs": [
    {
     "name": "stderr",
     "output_type": "stream",
     "text": [
      "  0%|                                                                                                                                                                                                          | 0/7786 [00:00<?, ?it/s]Truncation was not explicitly activated but `max_length` is provided a specific value, please use `truncation=True` to explicitly truncate examples to max length. Defaulting to 'longest_first' truncation strategy. If you encode pairs of sequences (GLUE-style) with the tokenizer you can select this strategy more precisely by providing a specific strategy to `truncation`.\n",
      "100%|█████████████████████████████████████████████████████████████████████████████████████████████████████████████████████████████████████████████████████████████████████████████████████████████| 7786/7786 [00:01<00:00, 5355.40it/s]\n",
      "/home/henry/anaconda3/lib/python3.9/site-packages/seaborn/distributions.py:2619: FutureWarning: `distplot` is a deprecated function and will be removed in a future version. Please adapt your code to use either `displot` (a figure-level function with similar flexibility) or `histplot` (an axes-level function for histograms).\n",
      "  warnings.warn(msg, FutureWarning)\n"
     ]
    },
    {
     "data": {
      "image/png": "[encoded data removed]",
      "text/plain": [
       "<Figure size 432x288 with 1 Axes>"
      ]
     },
     "metadata": {
      "needs_background": "light"
     },
     "output_type": "display_data"
    }
   ],
   "source": [
    "from src.utils import DisplayTokenLen\n",
    "DisplayTokenLen(df_train, tokenizer)"
   ]
  },
  {
   "cell_type": "markdown",
   "id": "56c1224a-3d4f-490b-ba5c-6ba26788253b",
   "metadata": {
    "id": "56c1224a-3d4f-490b-ba5c-6ba26788253b",
    "tags": []
   },
   "source": [
    "### 2.2 Check Data"
   ]
  },
  {
   "cell_type": "code",
   "execution_count": 9,
   "id": "910749fc-3ea3-4890-9b33-63a372dac9c1",
   "metadata": {
    "colab": {
     "base_uri": "https://localhost:8080/"
    },
    "id": "910749fc-3ea3-4890-9b33-63a372dac9c1",
    "outputId": "938e976d-88cf-419c-d542-653b99c4477d"
   },
   "outputs": [
    {
     "data": {
      "text/plain": [
       "{'input_ids': tensor([[    0,   558,  1302,  9412,   107,    78,   182,    59, 11685,  2179,\n",
       "          2959,   353,    96,  1302,  9412,    94,    43,    30,   878,   445,\n",
       "           232,   396,    60,  3941,    68,   379,  1724,  7660,    94,    43,\n",
       "            59, 11685,     2,     1,     1,     1,     1,     1,     1,     1,\n",
       "             1,     1,     1,     1,     1,     1,     1,     1,     1,     1,\n",
       "             1,     1,     1,     1,     1,     1,     1,     1,     1,     1,\n",
       "             1,     1,     1,     1,     1,     1,     1,     1,     1,     1,\n",
       "             1,     1,     1,     1,     1,     1,     1,     1,     1,     1,\n",
       "             1,     1,     1,     1,     1,     1,     1,     1,     1,     1,\n",
       "             1,     1,     1,     1,     1,     1,     1,     1,     1,     1,\n",
       "             1,     1,     1,     1,     1,     1,     1,     1,     1,     1,\n",
       "             1,     1,     1,     1,     1,     1,     1,     1,     1,     1,\n",
       "             1,     1,     1,     1,     1,     1,     1,     1]]), 'token_type_ids': tensor([[0, 0, 0, 0, 0, 0, 0, 0, 0, 0, 0, 0, 0, 0, 0, 0, 0, 0, 0, 0, 0, 0, 0, 0,\n",
       "         0, 0, 0, 0, 0, 0, 0, 0, 0, 0, 0, 0, 0, 0, 0, 0, 0, 0, 0, 0, 0, 0, 0, 0,\n",
       "         0, 0, 0, 0, 0, 0, 0, 0, 0, 0, 0, 0, 0, 0, 0, 0, 0, 0, 0, 0, 0, 0, 0, 0,\n",
       "         0, 0, 0, 0, 0, 0, 0, 0, 0, 0, 0, 0, 0, 0, 0, 0, 0, 0, 0, 0, 0, 0, 0, 0,\n",
       "         0, 0, 0, 0, 0, 0, 0, 0, 0, 0, 0, 0, 0, 0, 0, 0, 0, 0, 0, 0, 0, 0, 0, 0,\n",
       "         0, 0, 0, 0, 0, 0, 0, 0]]), 'attention_mask': tensor([[1, 1, 1, 1, 1, 1, 1, 1, 1, 1, 1, 1, 1, 1, 1, 1, 1, 1, 1, 1, 1, 1, 1, 1,\n",
       "         1, 1, 1, 1, 1, 1, 1, 1, 1, 0, 0, 0, 0, 0, 0, 0, 0, 0, 0, 0, 0, 0, 0, 0,\n",
       "         0, 0, 0, 0, 0, 0, 0, 0, 0, 0, 0, 0, 0, 0, 0, 0, 0, 0, 0, 0, 0, 0, 0, 0,\n",
       "         0, 0, 0, 0, 0, 0, 0, 0, 0, 0, 0, 0, 0, 0, 0, 0, 0, 0, 0, 0, 0, 0, 0, 0,\n",
       "         0, 0, 0, 0, 0, 0, 0, 0, 0, 0, 0, 0, 0, 0, 0, 0, 0, 0, 0, 0, 0, 0, 0, 0,\n",
       "         0, 0, 0, 0, 0, 0, 0, 0]])}"
      ]
     },
     "execution_count": 9,
     "metadata": {},
     "output_type": "execute_result"
    }
   ],
   "source": [
    "# Test the tokenizer\n",
    "test_text = \"máy sài 3 tháng rồi rất ok pin trâu khỏi nói sài cả ngày đến tối 12 giờ đêm mới sạc mình chơi game liên_quân cả ngày rất ok\"\n",
    "# generate encodings\n",
    "encodings = tokenizer.encode_plus(test_text, \n",
    "                                  add_special_tokens = True,\n",
    "                                  max_length = 128,\n",
    "                                  truncation = True,\n",
    "                                  padding = \"max_length\", \n",
    "                                  return_attention_mask = True, \n",
    "                                  return_tensors = \"pt\")\n",
    "# we get a dictionary with three keys (see: https://huggingface.co/transformers/glossary.html) \n",
    "encodings"
   ]
  },
  {
   "cell_type": "markdown",
   "id": "41525acd-e406-4151-8dac-cfe8a0f0b18f",
   "metadata": {
    "id": "41525acd-e406-4151-8dac-cfe8a0f0b18f"
   },
   "source": [
    "### 2.3 Transform dataset for Pytorch Model"
   ]
  },
  {
   "cell_type": "code",
   "execution_count": 22,
   "id": "48afd56c-0825-4c12-9a15-ed0f35fa47ee",
   "metadata": {
    "id": "48afd56c-0825-4c12-9a15-ed0f35fa47ee"
   },
   "outputs": [],
   "source": [
    "from src.utils import GetNewLabels\n",
    "from src.conf import AbsaConfig\n",
    "from src.model import CustomDataset\n",
    "conf = AbsaConfig()\n",
    "target_list = GetNewLabels()\n",
    "MAX_LEN = conf.MAX_LEN\n",
    "train_dataset = CustomDataset(df_train, tokenizer, MAX_LEN, target_list)\n",
    "valid_dataset = CustomDataset(df_valid, tokenizer, MAX_LEN, target_list)\n",
    "test_dataset = CustomDataset(df_test, tokenizer, MAX_LEN, target_list)"
   ]
  },
  {
   "cell_type": "code",
   "execution_count": 13,
   "id": "ba170d82-daff-46bf-b143-db2aacbfbb54",
   "metadata": {
    "colab": {
     "base_uri": "https://localhost:8080/"
    },
    "id": "ba170d82-daff-46bf-b143-db2aacbfbb54",
    "outputId": "cd85a96c-7ac5-4585-87df-8fcdf455c253"
   },
   "outputs": [
    {
     "data": {
      "text/plain": [
       "{'input_ids': tensor([    0,    60,   188,   558,    23,    35, 44553,  3385,  3385,  2662,\n",
       "         33640,   841, 11685,  5967,  2959,   690,   284,   258,  3998,   523,\n",
       "           889,   537,  2303,  3961,  3455,  1575,   726,  4097,   164,    15,\n",
       "         11535,   650,  1408,  3857,     2,     1,     1,     1,     1,     1,\n",
       "             1,     1,     1,     1,     1,     1,     1,     1,     1,     1,\n",
       "             1,     1,     1,     1,     1,     1,     1,     1,     1,     1,\n",
       "             1,     1,     1,     1,     1,     1,     1,     1,     1,     1,\n",
       "             1,     1,     1,     1,     1,     1,     1,     1,     1,     1,\n",
       "             1,     1,     1,     1,     1,     1,     1,     1,     1,     1,\n",
       "             1,     1,     1,     1,     1,     1,     1,     1,     1,     1,\n",
       "             1,     1,     1,     1,     1,     1,     1,     1,     1,     1,\n",
       "             1,     1,     1,     1,     1,     1,     1,     1,     1,     1,\n",
       "             1,     1,     1,     1,     1,     1,     1,     1]),\n",
       " 'attention_mask': tensor([1, 1, 1, 1, 1, 1, 1, 1, 1, 1, 1, 1, 1, 1, 1, 1, 1, 1, 1, 1, 1, 1, 1, 1,\n",
       "         1, 1, 1, 1, 1, 1, 1, 1, 1, 1, 1, 0, 0, 0, 0, 0, 0, 0, 0, 0, 0, 0, 0, 0,\n",
       "         0, 0, 0, 0, 0, 0, 0, 0, 0, 0, 0, 0, 0, 0, 0, 0, 0, 0, 0, 0, 0, 0, 0, 0,\n",
       "         0, 0, 0, 0, 0, 0, 0, 0, 0, 0, 0, 0, 0, 0, 0, 0, 0, 0, 0, 0, 0, 0, 0, 0,\n",
       "         0, 0, 0, 0, 0, 0, 0, 0, 0, 0, 0, 0, 0, 0, 0, 0, 0, 0, 0, 0, 0, 0, 0, 0,\n",
       "         0, 0, 0, 0, 0, 0, 0, 0]),\n",
       " 'token_type_ids': tensor([0, 0, 0, 0, 0, 0, 0, 0, 0, 0, 0, 0, 0, 0, 0, 0, 0, 0, 0, 0, 0, 0, 0, 0,\n",
       "         0, 0, 0, 0, 0, 0, 0, 0, 0, 0, 0, 0, 0, 0, 0, 0, 0, 0, 0, 0, 0, 0, 0, 0,\n",
       "         0, 0, 0, 0, 0, 0, 0, 0, 0, 0, 0, 0, 0, 0, 0, 0, 0, 0, 0, 0, 0, 0, 0, 0,\n",
       "         0, 0, 0, 0, 0, 0, 0, 0, 0, 0, 0, 0, 0, 0, 0, 0, 0, 0, 0, 0, 0, 0, 0, 0,\n",
       "         0, 0, 0, 0, 0, 0, 0, 0, 0, 0, 0, 0, 0, 0, 0, 0, 0, 0, 0, 0, 0, 0, 0, 0,\n",
       "         0, 0, 0, 0, 0, 0, 0, 0]),\n",
       " 'targets': tensor([0., 0., 0., 1., 0., 0., 1., 0., 0., 1., 0., 0., 0., 0., 0., 0., 0., 0.,\n",
       "         0., 0., 0., 1., 0., 0., 1., 0., 0., 1., 0., 0.]),\n",
       " 'comment': 'mới mua máy này tại thegioididong thốt_nốt cảm_thấy ok bin trâu chụp ảnh đẹp loa nghe to bắt wf khoẻ sóng ổn_định giá_thành vừa với túi_tiền nhân_viên tư_vấn nhiệt_tình'}"
      ]
     },
     "execution_count": 13,
     "metadata": {},
     "output_type": "execute_result"
    }
   ],
   "source": [
    "# testing the dataset\n",
    "next(iter(train_dataset))"
   ]
  },
  {
   "cell_type": "code",
   "execution_count": 14,
   "id": "f0c87017-2fbd-432e-a97d-fbcedc1b89ad",
   "metadata": {
    "id": "f0c87017-2fbd-432e-a97d-fbcedc1b89ad"
   },
   "outputs": [],
   "source": [
    "# Data loaders\n",
    "train_data_loader = torch.utils.data.DataLoader(train_dataset, \n",
    "    batch_size=conf.TRAIN_BATCH_SIZE,\n",
    "    shuffle=True,\n",
    "    num_workers=0\n",
    ")\n",
    "\n",
    "val_data_loader = torch.utils.data.DataLoader(valid_dataset, \n",
    "    batch_size=conf.VALID_BATCH_SIZE,\n",
    "    shuffle=False,\n",
    "    num_workers=0\n",
    ")\n",
    "\n",
    "test_data_loader = torch.utils.data.DataLoader(test_dataset, \n",
    "    batch_size=conf.TEST_BATCH_SIZE,\n",
    "    shuffle=False,\n",
    "    num_workers=0\n",
    ")"
   ]
  },
  {
   "cell_type": "markdown",
   "id": "4f2b9491-5771-4888-9a6f-7fecb80e4e21",
   "metadata": {
    "id": "4f2b9491-5771-4888-9a6f-7fecb80e4e21"
   },
   "source": [
    "## 3. Model Setting"
   ]
  },
  {
   "cell_type": "code",
   "execution_count": 15,
   "id": "f8ae7823-0df5-44cf-a1fc-86aa28c7e927",
   "metadata": {
    "colab": {
     "base_uri": "https://localhost:8080/"
    },
    "id": "f8ae7823-0df5-44cf-a1fc-86aa28c7e927",
    "outputId": "b680383b-e242-4ed6-d104-a5a5ac9289a1"
   },
   "outputs": [
    {
     "data": {
      "application/vnd.jupyter.widget-view+json": {
       "model_id": "5317941458fb43eeb8a1906a723ef2ba",
       "version_major": 2,
       "version_minor": 0
      },
      "text/plain": [
       "Downloading:   0%|          | 0.00/518M [00:00<?, ?B/s]"
      ]
     },
     "metadata": {},
     "output_type": "display_data"
    },
    {
     "name": "stderr",
     "output_type": "stream",
     "text": [
      "Some weights of the model checkpoint at vinai/phobert-base were not used when initializing RobertaModel: ['lm_head.dense.bias', 'lm_head.layer_norm.weight', 'lm_head.decoder.bias', 'lm_head.decoder.weight', 'lm_head.bias', 'lm_head.dense.weight', 'lm_head.layer_norm.bias']\n",
      "- This IS expected if you are initializing RobertaModel from the checkpoint of a model trained on another task or with another architecture (e.g. initializing a BertForSequenceClassification model from a BertForPreTraining model).\n",
      "- This IS NOT expected if you are initializing RobertaModel from the checkpoint of a model that you expect to be exactly identical (initializing a BertForSequenceClassification model from a BertForSequenceClassification model).\n"
     ]
    },
    {
     "data": {
      "text/plain": [
       "BERTClass(\n",
       "  (bert_model): RobertaModel(\n",
       "    (embeddings): RobertaEmbeddings(\n",
       "      (word_embeddings): Embedding(64001, 768, padding_idx=1)\n",
       "      (position_embeddings): Embedding(258, 768, padding_idx=1)\n",
       "      (token_type_embeddings): Embedding(1, 768)\n",
       "      (LayerNorm): LayerNorm((768,), eps=1e-05, elementwise_affine=True)\n",
       "      (dropout): Dropout(p=0.1, inplace=False)\n",
       "    )\n",
       "    (encoder): RobertaEncoder(\n",
       "      (layer): ModuleList(\n",
       "        (0): RobertaLayer(\n",
       "          (attention): RobertaAttention(\n",
       "            (self): RobertaSelfAttention(\n",
       "              (query): Linear(in_features=768, out_features=768, bias=True)\n",
       "              (key): Linear(in_features=768, out_features=768, bias=True)\n",
       "              (value): Linear(in_features=768, out_features=768, bias=True)\n",
       "              (dropout): Dropout(p=0.1, inplace=False)\n",
       "            )\n",
       "            (output): RobertaSelfOutput(\n",
       "              (dense): Linear(in_features=768, out_features=768, bias=True)\n",
       "              (LayerNorm): LayerNorm((768,), eps=1e-05, elementwise_affine=True)\n",
       "              (dropout): Dropout(p=0.1, inplace=False)\n",
       "            )\n",
       "          )\n",
       "          (intermediate): RobertaIntermediate(\n",
       "            (dense): Linear(in_features=768, out_features=3072, bias=True)\n",
       "            (intermediate_act_fn): GELUActivation()\n",
       "          )\n",
       "          (output): RobertaOutput(\n",
       "            (dense): Linear(in_features=3072, out_features=768, bias=True)\n",
       "            (LayerNorm): LayerNorm((768,), eps=1e-05, elementwise_affine=True)\n",
       "            (dropout): Dropout(p=0.1, inplace=False)\n",
       "          )\n",
       "        )\n",
       "        (1): RobertaLayer(\n",
       "          (attention): RobertaAttention(\n",
       "            (self): RobertaSelfAttention(\n",
       "              (query): Linear(in_features=768, out_features=768, bias=True)\n",
       "              (key): Linear(in_features=768, out_features=768, bias=True)\n",
       "              (value): Linear(in_features=768, out_features=768, bias=True)\n",
       "              (dropout): Dropout(p=0.1, inplace=False)\n",
       "            )\n",
       "            (output): RobertaSelfOutput(\n",
       "              (dense): Linear(in_features=768, out_features=768, bias=True)\n",
       "              (LayerNorm): LayerNorm((768,), eps=1e-05, elementwise_affine=True)\n",
       "              (dropout): Dropout(p=0.1, inplace=False)\n",
       "            )\n",
       "          )\n",
       "          (intermediate): RobertaIntermediate(\n",
       "            (dense): Linear(in_features=768, out_features=3072, bias=True)\n",
       "            (intermediate_act_fn): GELUActivation()\n",
       "          )\n",
       "          (output): RobertaOutput(\n",
       "            (dense): Linear(in_features=3072, out_features=768, bias=True)\n",
       "            (LayerNorm): LayerNorm((768,), eps=1e-05, elementwise_affine=True)\n",
       "            (dropout): Dropout(p=0.1, inplace=False)\n",
       "          )\n",
       "        )\n",
       "        (2): RobertaLayer(\n",
       "          (attention): RobertaAttention(\n",
       "            (self): RobertaSelfAttention(\n",
       "              (query): Linear(in_features=768, out_features=768, bias=True)\n",
       "              (key): Linear(in_features=768, out_features=768, bias=True)\n",
       "              (value): Linear(in_features=768, out_features=768, bias=True)\n",
       "              (dropout): Dropout(p=0.1, inplace=False)\n",
       "            )\n",
       "            (output): RobertaSelfOutput(\n",
       "              (dense): Linear(in_features=768, out_features=768, bias=True)\n",
       "              (LayerNorm): LayerNorm((768,), eps=1e-05, elementwise_affine=True)\n",
       "              (dropout): Dropout(p=0.1, inplace=False)\n",
       "            )\n",
       "          )\n",
       "          (intermediate): RobertaIntermediate(\n",
       "            (dense): Linear(in_features=768, out_features=3072, bias=True)\n",
       "            (intermediate_act_fn): GELUActivation()\n",
       "          )\n",
       "          (output): RobertaOutput(\n",
       "            (dense): Linear(in_features=3072, out_features=768, bias=True)\n",
       "            (LayerNorm): LayerNorm((768,), eps=1e-05, elementwise_affine=True)\n",
       "            (dropout): Dropout(p=0.1, inplace=False)\n",
       "          )\n",
       "        )\n",
       "        (3): RobertaLayer(\n",
       "          (attention): RobertaAttention(\n",
       "            (self): RobertaSelfAttention(\n",
       "              (query): Linear(in_features=768, out_features=768, bias=True)\n",
       "              (key): Linear(in_features=768, out_features=768, bias=True)\n",
       "              (value): Linear(in_features=768, out_features=768, bias=True)\n",
       "              (dropout): Dropout(p=0.1, inplace=False)\n",
       "            )\n",
       "            (output): RobertaSelfOutput(\n",
       "              (dense): Linear(in_features=768, out_features=768, bias=True)\n",
       "              (LayerNorm): LayerNorm((768,), eps=1e-05, elementwise_affine=True)\n",
       "              (dropout): Dropout(p=0.1, inplace=False)\n",
       "            )\n",
       "          )\n",
       "          (intermediate): RobertaIntermediate(\n",
       "            (dense): Linear(in_features=768, out_features=3072, bias=True)\n",
       "            (intermediate_act_fn): GELUActivation()\n",
       "          )\n",
       "          (output): RobertaOutput(\n",
       "            (dense): Linear(in_features=3072, out_features=768, bias=True)\n",
       "            (LayerNorm): LayerNorm((768,), eps=1e-05, elementwise_affine=True)\n",
       "            (dropout): Dropout(p=0.1, inplace=False)\n",
       "          )\n",
       "        )\n",
       "        (4): RobertaLayer(\n",
       "          (attention): RobertaAttention(\n",
       "            (self): RobertaSelfAttention(\n",
       "              (query): Linear(in_features=768, out_features=768, bias=True)\n",
       "              (key): Linear(in_features=768, out_features=768, bias=True)\n",
       "              (value): Linear(in_features=768, out_features=768, bias=True)\n",
       "              (dropout): Dropout(p=0.1, inplace=False)\n",
       "            )\n",
       "            (output): RobertaSelfOutput(\n",
       "              (dense): Linear(in_features=768, out_features=768, bias=True)\n",
       "              (LayerNorm): LayerNorm((768,), eps=1e-05, elementwise_affine=True)\n",
       "              (dropout): Dropout(p=0.1, inplace=False)\n",
       "            )\n",
       "          )\n",
       "          (intermediate): RobertaIntermediate(\n",
       "            (dense): Linear(in_features=768, out_features=3072, bias=True)\n",
       "            (intermediate_act_fn): GELUActivation()\n",
       "          )\n",
       "          (output): RobertaOutput(\n",
       "            (dense): Linear(in_features=3072, out_features=768, bias=True)\n",
       "            (LayerNorm): LayerNorm((768,), eps=1e-05, elementwise_affine=True)\n",
       "            (dropout): Dropout(p=0.1, inplace=False)\n",
       "          )\n",
       "        )\n",
       "        (5): RobertaLayer(\n",
       "          (attention): RobertaAttention(\n",
       "            (self): RobertaSelfAttention(\n",
       "              (query): Linear(in_features=768, out_features=768, bias=True)\n",
       "              (key): Linear(in_features=768, out_features=768, bias=True)\n",
       "              (value): Linear(in_features=768, out_features=768, bias=True)\n",
       "              (dropout): Dropout(p=0.1, inplace=False)\n",
       "            )\n",
       "            (output): RobertaSelfOutput(\n",
       "              (dense): Linear(in_features=768, out_features=768, bias=True)\n",
       "              (LayerNorm): LayerNorm((768,), eps=1e-05, elementwise_affine=True)\n",
       "              (dropout): Dropout(p=0.1, inplace=False)\n",
       "            )\n",
       "          )\n",
       "          (intermediate): RobertaIntermediate(\n",
       "            (dense): Linear(in_features=768, out_features=3072, bias=True)\n",
       "            (intermediate_act_fn): GELUActivation()\n",
       "          )\n",
       "          (output): RobertaOutput(\n",
       "            (dense): Linear(in_features=3072, out_features=768, bias=True)\n",
       "            (LayerNorm): LayerNorm((768,), eps=1e-05, elementwise_affine=True)\n",
       "            (dropout): Dropout(p=0.1, inplace=False)\n",
       "          )\n",
       "        )\n",
       "        (6): RobertaLayer(\n",
       "          (attention): RobertaAttention(\n",
       "            (self): RobertaSelfAttention(\n",
       "              (query): Linear(in_features=768, out_features=768, bias=True)\n",
       "              (key): Linear(in_features=768, out_features=768, bias=True)\n",
       "              (value): Linear(in_features=768, out_features=768, bias=True)\n",
       "              (dropout): Dropout(p=0.1, inplace=False)\n",
       "            )\n",
       "            (output): RobertaSelfOutput(\n",
       "              (dense): Linear(in_features=768, out_features=768, bias=True)\n",
       "              (LayerNorm): LayerNorm((768,), eps=1e-05, elementwise_affine=True)\n",
       "              (dropout): Dropout(p=0.1, inplace=False)\n",
       "            )\n",
       "          )\n",
       "          (intermediate): RobertaIntermediate(\n",
       "            (dense): Linear(in_features=768, out_features=3072, bias=True)\n",
       "            (intermediate_act_fn): GELUActivation()\n",
       "          )\n",
       "          (output): RobertaOutput(\n",
       "            (dense): Linear(in_features=3072, out_features=768, bias=True)\n",
       "            (LayerNorm): LayerNorm((768,), eps=1e-05, elementwise_affine=True)\n",
       "            (dropout): Dropout(p=0.1, inplace=False)\n",
       "          )\n",
       "        )\n",
       "        (7): RobertaLayer(\n",
       "          (attention): RobertaAttention(\n",
       "            (self): RobertaSelfAttention(\n",
       "              (query): Linear(in_features=768, out_features=768, bias=True)\n",
       "              (key): Linear(in_features=768, out_features=768, bias=True)\n",
       "              (value): Linear(in_features=768, out_features=768, bias=True)\n",
       "              (dropout): Dropout(p=0.1, inplace=False)\n",
       "            )\n",
       "            (output): RobertaSelfOutput(\n",
       "              (dense): Linear(in_features=768, out_features=768, bias=True)\n",
       "              (LayerNorm): LayerNorm((768,), eps=1e-05, elementwise_affine=True)\n",
       "              (dropout): Dropout(p=0.1, inplace=False)\n",
       "            )\n",
       "          )\n",
       "          (intermediate): RobertaIntermediate(\n",
       "            (dense): Linear(in_features=768, out_features=3072, bias=True)\n",
       "            (intermediate_act_fn): GELUActivation()\n",
       "          )\n",
       "          (output): RobertaOutput(\n",
       "            (dense): Linear(in_features=3072, out_features=768, bias=True)\n",
       "            (LayerNorm): LayerNorm((768,), eps=1e-05, elementwise_affine=True)\n",
       "            (dropout): Dropout(p=0.1, inplace=False)\n",
       "          )\n",
       "        )\n",
       "        (8): RobertaLayer(\n",
       "          (attention): RobertaAttention(\n",
       "            (self): RobertaSelfAttention(\n",
       "              (query): Linear(in_features=768, out_features=768, bias=True)\n",
       "              (key): Linear(in_features=768, out_features=768, bias=True)\n",
       "              (value): Linear(in_features=768, out_features=768, bias=True)\n",
       "              (dropout): Dropout(p=0.1, inplace=False)\n",
       "            )\n",
       "            (output): RobertaSelfOutput(\n",
       "              (dense): Linear(in_features=768, out_features=768, bias=True)\n",
       "              (LayerNorm): LayerNorm((768,), eps=1e-05, elementwise_affine=True)\n",
       "              (dropout): Dropout(p=0.1, inplace=False)\n",
       "            )\n",
       "          )\n",
       "          (intermediate): RobertaIntermediate(\n",
       "            (dense): Linear(in_features=768, out_features=3072, bias=True)\n",
       "            (intermediate_act_fn): GELUActivation()\n",
       "          )\n",
       "          (output): RobertaOutput(\n",
       "            (dense): Linear(in_features=3072, out_features=768, bias=True)\n",
       "            (LayerNorm): LayerNorm((768,), eps=1e-05, elementwise_affine=True)\n",
       "            (dropout): Dropout(p=0.1, inplace=False)\n",
       "          )\n",
       "        )\n",
       "        (9): RobertaLayer(\n",
       "          (attention): RobertaAttention(\n",
       "            (self): RobertaSelfAttention(\n",
       "              (query): Linear(in_features=768, out_features=768, bias=True)\n",
       "              (key): Linear(in_features=768, out_features=768, bias=True)\n",
       "              (value): Linear(in_features=768, out_features=768, bias=True)\n",
       "              (dropout): Dropout(p=0.1, inplace=False)\n",
       "            )\n",
       "            (output): RobertaSelfOutput(\n",
       "              (dense): Linear(in_features=768, out_features=768, bias=True)\n",
       "              (LayerNorm): LayerNorm((768,), eps=1e-05, elementwise_affine=True)\n",
       "              (dropout): Dropout(p=0.1, inplace=False)\n",
       "            )\n",
       "          )\n",
       "          (intermediate): RobertaIntermediate(\n",
       "            (dense): Linear(in_features=768, out_features=3072, bias=True)\n",
       "            (intermediate_act_fn): GELUActivation()\n",
       "          )\n",
       "          (output): RobertaOutput(\n",
       "            (dense): Linear(in_features=3072, out_features=768, bias=True)\n",
       "            (LayerNorm): LayerNorm((768,), eps=1e-05, elementwise_affine=True)\n",
       "            (dropout): Dropout(p=0.1, inplace=False)\n",
       "          )\n",
       "        )\n",
       "        (10): RobertaLayer(\n",
       "          (attention): RobertaAttention(\n",
       "            (self): RobertaSelfAttention(\n",
       "              (query): Linear(in_features=768, out_features=768, bias=True)\n",
       "              (key): Linear(in_features=768, out_features=768, bias=True)\n",
       "              (value): Linear(in_features=768, out_features=768, bias=True)\n",
       "              (dropout): Dropout(p=0.1, inplace=False)\n",
       "            )\n",
       "            (output): RobertaSelfOutput(\n",
       "              (dense): Linear(in_features=768, out_features=768, bias=True)\n",
       "              (LayerNorm): LayerNorm((768,), eps=1e-05, elementwise_affine=True)\n",
       "              (dropout): Dropout(p=0.1, inplace=False)\n",
       "            )\n",
       "          )\n",
       "          (intermediate): RobertaIntermediate(\n",
       "            (dense): Linear(in_features=768, out_features=3072, bias=True)\n",
       "            (intermediate_act_fn): GELUActivation()\n",
       "          )\n",
       "          (output): RobertaOutput(\n",
       "            (dense): Linear(in_features=3072, out_features=768, bias=True)\n",
       "            (LayerNorm): LayerNorm((768,), eps=1e-05, elementwise_affine=True)\n",
       "            (dropout): Dropout(p=0.1, inplace=False)\n",
       "          )\n",
       "        )\n",
       "        (11): RobertaLayer(\n",
       "          (attention): RobertaAttention(\n",
       "            (self): RobertaSelfAttention(\n",
       "              (query): Linear(in_features=768, out_features=768, bias=True)\n",
       "              (key): Linear(in_features=768, out_features=768, bias=True)\n",
       "              (value): Linear(in_features=768, out_features=768, bias=True)\n",
       "              (dropout): Dropout(p=0.1, inplace=False)\n",
       "            )\n",
       "            (output): RobertaSelfOutput(\n",
       "              (dense): Linear(in_features=768, out_features=768, bias=True)\n",
       "              (LayerNorm): LayerNorm((768,), eps=1e-05, elementwise_affine=True)\n",
       "              (dropout): Dropout(p=0.1, inplace=False)\n",
       "            )\n",
       "          )\n",
       "          (intermediate): RobertaIntermediate(\n",
       "            (dense): Linear(in_features=768, out_features=3072, bias=True)\n",
       "            (intermediate_act_fn): GELUActivation()\n",
       "          )\n",
       "          (output): RobertaOutput(\n",
       "            (dense): Linear(in_features=3072, out_features=768, bias=True)\n",
       "            (LayerNorm): LayerNorm((768,), eps=1e-05, elementwise_affine=True)\n",
       "            (dropout): Dropout(p=0.1, inplace=False)\n",
       "          )\n",
       "        )\n",
       "      )\n",
       "    )\n",
       "    (pooler): RobertaPooler(\n",
       "      (dense): Linear(in_features=768, out_features=768, bias=True)\n",
       "      (activation): Tanh()\n",
       "    )\n",
       "  )\n",
       "  (dropout): Dropout(p=0.3, inplace=False)\n",
       "  (linear): Linear(in_features=768, out_features=30, bias=True)\n",
       ")"
      ]
     },
     "execution_count": 15,
     "metadata": {},
     "output_type": "execute_result"
    }
   ],
   "source": [
    "from src.model import BERTClass\n",
    "\n",
    "model = BERTClass()\n",
    "# # Freezing BERT layers: (tested, weaker convergence)\n",
    "# for param in model.bert_model.parameters():\n",
    "#     param.requires_grad = False\n",
    "model.to(conf.device)"
   ]
  },
  {
   "cell_type": "code",
   "execution_count": 16,
   "id": "433ff1c5-bb74-4d16-b612-31e2fae427a7",
   "metadata": {
    "colab": {
     "base_uri": "https://localhost:8080/"
    },
    "id": "433ff1c5-bb74-4d16-b612-31e2fae427a7",
    "outputId": "7b3aa236-65e8-4578-bbdc-2657690668d0"
   },
   "outputs": [
    {
     "name": "stderr",
     "output_type": "stream",
     "text": [
      "/home/henry/anaconda3/lib/python3.9/site-packages/transformers/optimization.py:306: FutureWarning: This implementation of AdamW is deprecated and will be removed in a future version. Use the PyTorch implementation torch.optim.AdamW instead, or set `no_deprecation_warning=True` to disable this warning\n",
      "  warnings.warn(\n"
     ]
    }
   ],
   "source": [
    "from transformers import AdamW\n",
    "# define the optimizer\n",
    "optimizer = AdamW(model.parameters(), lr = 1e-5)         "
   ]
  },
  {
   "cell_type": "markdown",
   "id": "a07eb4e4-3910-48bd-90fd-55027c4398fd",
   "metadata": {
    "id": "a07eb4e4-3910-48bd-90fd-55027c4398fd"
   },
   "source": [
    "## 4. Training"
   ]
  },
  {
   "cell_type": "code",
   "execution_count": 17,
   "id": "16cfa27f-a55f-4452-9df8-bcd8782f1c9a",
   "metadata": {
    "id": "16cfa27f-a55f-4452-9df8-bcd8782f1c9a"
   },
   "outputs": [],
   "source": [
    "from src.utils import SupportModel"
   ]
  },
  {
   "cell_type": "code",
   "execution_count": 18,
   "id": "4e9246b0-e1f8-4e68-a628-d8674dda917c",
   "metadata": {
    "id": "4e9246b0-e1f8-4e68-a628-d8674dda917c"
   },
   "outputs": [],
   "source": [
    "ModelSupporter = SupportModel()"
   ]
  },
  {
   "cell_type": "code",
   "execution_count": 24,
   "id": "5a9367a7-c201-4810-9613-7c3751a05e2d",
   "metadata": {
    "id": "5a9367a7-c201-4810-9613-7c3751a05e2d"
   },
   "outputs": [],
   "source": [
    "# history = defaultdict(list)\n",
    "# best_accuracy = 0\n",
    "# EPOCHS = conf.EPOCHS\n",
    "# data_dir = conf.data_dir\n",
    "# for epoch in range(1, EPOCHS+1):\n",
    "#     print(f'Epoch {epoch}/{EPOCHS}')\n",
    "#     model, train_acc, train_loss = ModelSupporter.train_model(train_data_loader, model, optimizer)\n",
    "#     val_acc, val_loss = ModelSupporter.eval_model(val_data_loader, model, optimizer)\n",
    "\n",
    "#     print(f'train_loss={train_loss:.4f}, val_loss={val_loss:.4f} train_acc={train_acc:.4f}, val_acc={val_acc:.4f}')\n",
    "\n",
    "#     history['train_acc'].append(train_acc)\n",
    "#     history['train_loss'].append(train_loss)\n",
    "#     history['val_acc'].append(val_acc)\n",
    "#     history['val_loss'].append(val_loss)\n",
    "#     # save the best model\n",
    "#     if val_acc > best_accuracy:\n",
    "#         torch.save(model.state_dict(), os.path.join(data_dir,\"output\",\"MLTC_model_state.bin\"))\n",
    "#         best_accuracy = val_acc"
   ]
  },
  {
   "cell_type": "code",
   "execution_count": 25,
   "id": "99324af5-83a1-4558-9f8c-3a90594ef9aa",
   "metadata": {
    "id": "99324af5-83a1-4558-9f8c-3a90594ef9aa"
   },
   "outputs": [],
   "source": [
    "# PlotTrainingHistory(history)"
   ]
  },
  {
   "cell_type": "markdown",
   "id": "d09ea380-c554-4a9f-ba1b-ad703771343e",
   "metadata": {
    "id": "d09ea380-c554-4a9f-ba1b-ad703771343e"
   },
   "source": [
    "## 5. Evaluate"
   ]
  },
  {
   "cell_type": "code",
   "execution_count": null,
   "id": "5K-J8hMZC2wB",
   "metadata": {
    "id": "5K-J8hMZC2wB"
   },
   "outputs": [],
   "source": [
    "from google.colab import drive\n",
    "drive.mount('/content/drive')"
   ]
  },
  {
   "cell_type": "code",
   "execution_count": 26,
   "id": "f2acf6c3-31f4-4085-b35e-a4846c051190",
   "metadata": {
    "id": "f2acf6c3-31f4-4085-b35e-a4846c051190"
   },
   "outputs": [],
   "source": [
    "# # Loading pretrained model (best model)\n",
    "# model = BERTClass()\n",
    "# model.load_state_dict(torch.load(os.path.join(data_dir,\"output\",\"MLTC_model_state.bin\")))\n",
    "# model = model.to(device)"
   ]
  },
  {
   "cell_type": "code",
   "execution_count": 27,
   "id": "9c99f1d3-0925-40d7-a4be-38b1ff2a8d50",
   "metadata": {
    "id": "9c99f1d3-0925-40d7-a4be-38b1ff2a8d50"
   },
   "outputs": [],
   "source": [
    "# Evaluate the model using the test data\n",
    "# test_acc, test_loss = eval_model(test_data_loader, model, optimizer)"
   ]
  },
  {
   "cell_type": "code",
   "execution_count": 28,
   "id": "098d168b-7f36-49c5-9ec4-6caca9c1e814",
   "metadata": {
    "id": "098d168b-7f36-49c5-9ec4-6caca9c1e814"
   },
   "outputs": [],
   "source": [
    "# The accuracy looks OK, similar to the validation accuracy\n",
    "# The model generalizes well !\n",
    "# test_acc"
   ]
  },
  {
   "cell_type": "code",
   "execution_count": 29,
   "id": "b7f78d34-0a93-4caf-8972-d16ee5906070",
   "metadata": {
    "id": "b7f78d34-0a93-4caf-8972-d16ee5906070"
   },
   "outputs": [],
   "source": [
    "# comments, predictions, prediction_probs, target_values = ModelSupporter.get_predictions(model, test_data_loader)"
   ]
  },
  {
   "cell_type": "code",
   "execution_count": 30,
   "id": "c1a44aa5-64f9-4f38-a32e-f1683c03921e",
   "metadata": {
    "id": "c1a44aa5-64f9-4f38-a32e-f1683c03921e"
   },
   "outputs": [],
   "source": [
    "# print(f\"comments:{len(comments)} \\npredictions:{predictions.shape} \\nprediction_probs:{prediction_probs.shape} \\ntarget_values:{target_values.shape}\")"
   ]
  },
  {
   "cell_type": "code",
   "execution_count": 31,
   "id": "8044f41d-ccfc-48b7-a79d-46ee45b51e58",
   "metadata": {
    "id": "8044f41d-ccfc-48b7-a79d-46ee45b51e58"
   },
   "outputs": [],
   "source": [
    "# # Generate Classification Metrics\n",
    "# # note that the total support is greater than the number of samples\n",
    "# # some samples have multiple lables\n",
    "\n",
    "# print(classification_report(target_values, predictions, target_names=target_list))"
   ]
  },
  {
   "cell_type": "markdown",
   "id": "377b06b9-4e8f-4592-9831-81f29c7ad821",
   "metadata": {
    "id": "377b06b9-4e8f-4592-9831-81f29c7ad821"
   },
   "source": [
    "## 6. Predict Raw Input"
   ]
  },
  {
   "cell_type": "code",
   "execution_count": 32,
   "id": "43d62498-eac0-4eec-8fc3-0e04b27a21f5",
   "metadata": {
    "id": "43d62498-eac0-4eec-8fc3-0e04b27a21f5"
   },
   "outputs": [],
   "source": [
    "# ModelSupporter.predict_raw_text(model, tokenizer, raw_text='')"
   ]
  },
  {
   "cell_type": "markdown",
   "id": "4c76ea09-8134-4631-87d0-a3ea85842a61",
   "metadata": {
    "tags": []
   },
   "source": [
    "## 7.BigDL"
   ]
  },
  {
   "cell_type": "markdown",
   "id": "a8611cc2-e186-4572-a1ef-1ff629c32b3f",
   "metadata": {},
   "source": [
    "### 7.1  Environment Preparation"
   ]
  },
  {
   "cell_type": "markdown",
   "id": "1e7a92ed-67a1-4bb2-abe7-131038675f57",
   "metadata": {},
   "source": [
    "Java"
   ]
  },
  {
   "cell_type": "code",
   "execution_count": null,
   "id": "ea809872-2549-4756-86c2-748c71320f70",
   "metadata": {},
   "outputs": [],
   "source": [
    "# Install jdk8\n",
    "!apt-get install openjdk-8-jdk-headless -qq > /dev/null\n",
    "import os\n",
    "# Set environment variable JAVA_HOME.\n",
    "os.environ[\"JAVA_HOME\"] = \"/usr/lib/jvm/java-8-openjdk-amd64\"\n",
    "!update-alternatives --set java /usr/lib/jvm/java-8-openjdk-amd64/jre/bin/java\n",
    "!java -version"
   ]
  },
  {
   "cell_type": "markdown",
   "id": "1e683bdf-9b95-4a39-986c-25c3247af2e2",
   "metadata": {},
   "source": [
    "Python 3.8"
   ]
  },
  {
   "cell_type": "code",
   "execution_count": null,
   "id": "cd6fdfa9-001f-4e2e-b39c-a0f8eaef0c22",
   "metadata": {},
   "outputs": [],
   "source": [
    "import sys\n",
    "# Set current python version\n",
    "python_version = f\"3.8\"\n",
    "!wget https://repo.continuum.io/miniconda/Miniconda3-4.5.4-Linux-x86_64.sh\n",
    "!chmod +x Miniconda3-4.5.4-Linux-x86_64.sh\n",
    "!./Miniconda3-4.5.4-Linux-x86_64.sh -b -f -p /usr/local\n",
    "\n",
    "# Update Conda\n",
    "!conda install --channel defaults conda python=$python_version --yes\n",
    "!conda update --channel defaults --all --yes\n",
    "\n",
    "# Append to the sys.path\n",
    "_ = (sys.path\n",
    "        .append(f\"/usr/local/lib/python3.7/site-packages\"))\n",
    "\n",
    "os.environ['PYTHONHOME']=\"/usr/local\""
   ]
  },
  {
   "cell_type": "markdown",
   "id": "4e07a671-05fb-4261-b551-0482648f2aef",
   "metadata": {},
   "source": [
    "### 7.2 BigDL dependency"
   ]
  },
  {
   "cell_type": "code",
   "execution_count": null,
   "id": "9c37ee3d-35b9-4179-b745-90a92a128b14",
   "metadata": {},
   "outputs": [],
   "source": [
    "!pip install bigdl-orca\n",
    "!pip install six cloudpickle"
   ]
  },
  {
   "cell_type": "code",
   "execution_count": null,
   "id": "86875013-6687-4def-ab08-bcf5be126366",
   "metadata": {},
   "outputs": [],
   "source": [
    "!python3 -m pip install jep==3.9.0"
   ]
  },
  {
   "cell_type": "markdown",
   "id": "91cd5de3-3efc-4994-97b2-13eaa3de7208",
   "metadata": {},
   "source": [
    "### 7.3 Init Orca Context"
   ]
  },
  {
   "cell_type": "code",
   "execution_count": 25,
   "id": "e4bd62ae-cd8b-4a08-87a1-cc6acbfaa83c",
   "metadata": {},
   "outputs": [
    {
     "data": {
      "text/plain": [
       "8"
      ]
     },
     "execution_count": 25,
     "metadata": {},
     "output_type": "execute_result"
    }
   ],
   "source": [
    "import multiprocessing\n",
    "cores = multiprocessing.cpu_count() # Count the number of cores in a computer\n",
    "cores"
   ]
  },
  {
   "cell_type": "code",
   "execution_count": null,
   "id": "4de9151a-71ea-44dd-ad8a-18d8a1633286",
   "metadata": {},
   "outputs": [],
   "source": [
    "from bigdl.orca import init_orca_context, stop_orca_context\n",
    "\n",
    "cluster_mode = \"local\"\n",
    "if cluster_mode == \"local\":  # For local machine\n",
    "    init_orca_context(cores=2, memory=\"4g\")\n",
    "elif cluster_mode == \"k8s\":  # For K8s cluster\n",
    "    init_orca_context(cluster_mode=\"k8s\", num_nodes=2, cores=2, memory=\"10g\", driver_memory=\"10g\", driver_cores=1)\n",
    "elif cluster_mode == \"yarn\":  # For Hadoop/YARN cluster\n",
    "    init_orca_context(\n",
    "    cluster_mode=\"yarn\", cores=2, num_nodes=2, memory=\"10g\",\n",
    "    driver_memory=\"10g\", driver_cores=1,\n",
    "    conf={\"spark.rpc.message.maxSize\": \"1024\",\n",
    "        \"spark.task.maxFailures\": \"1\",\n",
    "        \"spark.driver.extraJavaOptions\": \"-Dbigdl.failure.retryTimes=1\"})"
   ]
  },
  {
   "cell_type": "markdown",
   "id": "f434e4bf-18ec-475a-93a4-74d850f6f9c7",
   "metadata": {},
   "source": [
    "### 7.4 Training"
   ]
  },
  {
   "cell_type": "markdown",
   "id": "c89e2815-2bff-4a64-b117-5111dd781cdb",
   "metadata": {},
   "source": [
    "#### 7.4.1 Convert Pytorch Model to BigDL Model"
   ]
  },
  {
   "cell_type": "code",
   "execution_count": null,
   "id": "49fb3260-c81f-4e29-bc91-dbd7229df26f",
   "metadata": {},
   "outputs": [],
   "source": [
    "from bigdl.orca.learn.pytorch import Estimator \n",
    "from bigdl.orca.learn.metrics import Accuracy\n",
    "from bigdl.orca.learn.pytorch.pytorch_spark_estimator import PyTorchSparkEstimator\n",
    "model.train()\n",
    "criterion = torch.nn.BCEWithLogitsLoss()\n",
    "est = PyTorchSparkEstimator(model=model,\n",
    "                           optimizer=optimizer,\n",
    "                           loss=criterion)"
   ]
  },
  {
   "cell_type": "markdown",
   "id": "659cb859-c845-40a6-b111-16b04046578a",
   "metadata": {},
   "source": [
    "#### 7.4.2 Fit"
   ]
  },
  {
   "cell_type": "code",
   "execution_count": null,
   "id": "e7819538-c117-4a32-afc7-590dccfc1a98",
   "metadata": {},
   "outputs": [],
   "source": [
    "from bigdl.orca.learn.trigger import EveryEpoch \n",
    "\n",
    "est.fit(data=train_data_loader, epochs=10, validation_data=val_data_loader,\n",
    "        checkpoint_trigger=EveryEpoch())"
   ]
  },
  {
   "cell_type": "markdown",
   "id": "c781a0da-423f-43e5-ad41-54a6d0e4b57f",
   "metadata": {},
   "source": [
    "#### 7.4.3 Evaluate"
   ]
  },
  {
   "cell_type": "code",
   "execution_count": null,
   "id": "b750c8c9-a159-480a-8f29-23e7090fab6e",
   "metadata": {},
   "outputs": [],
   "source": [
    "result = est.evaluate(data=test_data_loader, batch_size=conf.TEST_BATCH_SIZE)\n",
    "for r in result:\n",
    "    print(r, \":\", result[r])"
   ]
  },
  {
   "cell_type": "markdown",
   "id": "693a80c1-4768-475c-8cb2-563c9c4b3739",
   "metadata": {},
   "source": [
    "#### 7.4.5 Stop orca context"
   ]
  },
  {
   "cell_type": "code",
   "execution_count": null,
   "id": "ed7eaee3-8aad-4ab5-9529-3919f069fba1",
   "metadata": {},
   "outputs": [],
   "source": [
    "# stop orca context when program finishes\n",
    "stop_orca_context()"
   ]
  }
 ],
 "metadata": {
  "accelerator": "GPU",
  "colab": {
   "collapsed_sections": [
    "nTwn9pCetyVE",
    "0c499781-e2eb-400f-b076-0d6a691fa2cc",
    "56c1224a-3d4f-490b-ba5c-6ba26788253b",
    "41525acd-e406-4151-8dac-cfe8a0f0b18f"
   ],
   "name": "BigDataABSl.ipynb",
   "provenance": [],
   "toc_visible": true
  },
  "gpuClass": "standard",
  "kernelspec": {
   "display_name": "Python 3 (ipykernel)",
   "language": "python",
   "name": "python3"
  },
  "language_info": {
   "codemirror_mode": {
    "name": "ipython",
    "version": 3
   },
   "file_extension": ".py",
   "mimetype": "text/x-python",
   "name": "python",
   "nbconvert_exporter": "python",
   "pygments_lexer": "ipython3",
   "version": "3.9.12"
  }
 },
 "nbformat": 4,
 "nbformat_minor": 5
}
